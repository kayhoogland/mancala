{
 "cells": [
  {
   "cell_type": "code",
   "execution_count": 1,
   "metadata": {},
   "outputs": [],
   "source": [
    "import pandas as pd\n",
    "import numpy as np\n",
    "import torch\n",
    "import torch.nn as nn\n",
    "import torch.optim as opt \n",
    "import torch.nn.functional as F\n",
    "import tqdm\n",
    "from torch.utils.data import DataLoader, Dataset"
   ]
  },
  {
   "cell_type": "code",
   "execution_count": 2,
   "metadata": {},
   "outputs": [],
   "source": [
    "df = pd.read_parquet('RandomBot_GreedyBot_10k_clean.parquet')"
   ]
  },
  {
   "cell_type": "code",
   "execution_count": 3,
   "metadata": {},
   "outputs": [],
   "source": [
    "class MyRegression(nn.Module):\n",
    "    def __init__(self, k, hidden):\n",
    "        super().__init__()\n",
    "        self.linear1 = nn.Linear(k, hidden * 2)\n",
    "        self.linear2 = nn.Linear(hidden * 2, hidden)\n",
    "        self.linear_last = nn.Linear(hidden, 6)\n",
    "\n",
    "    def forward(self, x_in):\n",
    "        hidden = F.relu(self.linear1(x_in))\n",
    "        hidden = F.relu(self.linear2(hidden))\n",
    "        return self.linear_last(hidden)"
   ]
  },
  {
   "cell_type": "code",
   "execution_count": 4,
   "metadata": {},
   "outputs": [],
   "source": [
    "regressor = MyRegression(k=14, hidden=50)"
   ]
  },
  {
   "cell_type": "code",
   "execution_count": 5,
   "metadata": {},
   "outputs": [],
   "source": [
    "class DataSet(Dataset):\n",
    "    def __init__(self, df):\n",
    "        self.df = df\n",
    "    \n",
    "    def __getitem__(self, idx):\n",
    "        item = df.iloc[idx]\n",
    "        output = {'state': torch.FloatTensor(item['BoardState']), 'reward' : item['ewma_reward'], 'action': item['action']}\n",
    "        return output\n",
    "    \n",
    "    def __len__(self):\n",
    "        return df.shape[0]"
   ]
  },
  {
   "cell_type": "code",
   "execution_count": 6,
   "metadata": {},
   "outputs": [],
   "source": [
    "data = DataSet(df=df)"
   ]
  },
  {
   "cell_type": "code",
   "execution_count": 7,
   "metadata": {},
   "outputs": [],
   "source": [
    "dataloader = DataLoader(data, batch_size=1000, shuffle=True, num_workers=5)"
   ]
  },
  {
   "cell_type": "code",
   "execution_count": 8,
   "metadata": {},
   "outputs": [],
   "source": [
    "def transform_y(actions, y, y_hat):\n",
    "    vector_output = y_hat.clone()\n",
    "    for index, action, true_value in zip(range(len(y)), actions, y):\n",
    "        vector_output[index][action-1] = true_value\n",
    "    return vector_output"
   ]
  },
  {
   "cell_type": "code",
   "execution_count": 9,
   "metadata": {},
   "outputs": [
    {
     "name": "stderr",
     "output_type": "stream",
     "text": [
      "loss: 2.7439489424874206: 100%|██████████| 10/10 [02:48<00:00, 16.83s/it]\n"
     ]
    }
   ],
   "source": [
    "loss_func = torch.nn.L1Loss()\n",
    "optimizer = opt.SGD(regressor.parameters(), lr=1)\n",
    "epochs = tqdm.trange(10)\n",
    "\n",
    "for i in epochs:\n",
    "    losses = []\n",
    "    for batch_idx, batch in enumerate(dataloader):\n",
    "        x = batch['state']\n",
    "        y = batch['reward']\n",
    "        actions = batch['action']\n",
    "\n",
    "        y_hat = regressor(x)\n",
    "        y_transformed = transform_y(actions, y, y_hat)\n",
    "        loss = loss_func(y_hat, y_transformed)\n",
    "        losses.append(loss.item())\n",
    "        optimizer.zero_grad()\n",
    "        loss.backward()\n",
    "        optimizer.step()\n",
    "    epochs.set_description(f'loss: {np.mean(losses)}')"
   ]
  },
  {
   "cell_type": "code",
   "execution_count": 13,
   "metadata": {},
   "outputs": [],
   "source": [
    "torch.save(regressor, 'model_Greedy_vs_Random.pth')"
   ]
  },
  {
   "cell_type": "code",
   "execution_count": 15,
   "metadata": {},
   "outputs": [],
   "source": [
    "regr = torch.load('model_Greedy_vs_Random.pth')"
   ]
  },
  {
   "cell_type": "code",
   "execution_count": 23,
   "metadata": {},
   "outputs": [
    {
     "data": {
      "text/plain": [
       "tensor([ 6.2078e+00,  4.8259e+00, -5.9199e-03,  5.6166e+00,  3.9525e+00,\n",
       "        -2.5271e+00], grad_fn=<AddBackward0>)"
      ]
     },
     "execution_count": 23,
     "metadata": {},
     "output_type": "execute_result"
    }
   ],
   "source": [
    "regr(torch.FloatTensor(df['BoardState'][1]))"
   ]
  },
  {
   "cell_type": "code",
   "execution_count": 16,
   "metadata": {},
   "outputs": [
    {
     "data": {
      "text/plain": [
       "array([6, 3, 1, 2, 6, 2, 6, 2, 6, 2, 2, 2, 2, 3, 3, 4, 3, 2, 5, 2, 6, 6,\n",
       "       2, 2, 6, 1, 1, 6, 2, 2, 6, 5, 2, 2, 2, 2, 2, 3, 2, 5, 6, 2, 2, 1,\n",
       "       2])"
      ]
     },
     "execution_count": 16,
     "metadata": {},
     "output_type": "execute_result"
    }
   ],
   "source": [
    "np.argmax(regr(x).detach().numpy(), axis=1) + 1"
   ]
  }
 ],
 "metadata": {
  "kernelspec": {
   "display_name": "Python 3",
   "language": "python",
   "name": "python3"
  },
  "language_info": {
   "codemirror_mode": {
    "name": "ipython",
    "version": 3
   },
   "file_extension": ".py",
   "mimetype": "text/x-python",
   "name": "python",
   "nbconvert_exporter": "python",
   "pygments_lexer": "ipython3",
   "version": "3.6.6"
  }
 },
 "nbformat": 4,
 "nbformat_minor": 2
}
